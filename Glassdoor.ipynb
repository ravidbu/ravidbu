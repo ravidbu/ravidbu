{
 "cells": [
  {
   "cell_type": "markdown",
   "metadata": {},
   "source": [
    "# Glassdoor"
   ]
  },
  {
   "cell_type": "code",
   "execution_count": 1,
   "metadata": {},
   "outputs": [],
   "source": [
    "import requests\n",
    "import pandas as pd\n",
    "from bs4 import BeautifulSoup\n",
    "import selenium\n",
    "from selenium import webdriver\n",
    "import time"
   ]
  },
  {
   "cell_type": "code",
   "execution_count": 2,
   "metadata": {},
   "outputs": [],
   "source": [
    "# Get all job infomration from page 2 to 102\n",
    "pd.set_option('max_colwidth',500) \n",
    "df = pd.DataFrame()  \n",
    "\n",
    "for page in range(1,3): # page from 2 to 102\n",
    "    url = \"https://www.glassdoor.com/Job/data-analytics-jobs-SRCH_KO0,18_IP\" +str(page)+\".htm\" # get full url \n",
    "    options = webdriver.ChromeOptions()\n",
    "    options.add_argument('headless')\n",
    "    driver = webdriver.Chrome('/Users/guorong/Downloads/chromedriver',options=options)\n",
    "    driver.get(url)\n",
    "    time.sleep(2)\n",
    "\n",
    "    links = driver.find_elements_by_class_name(\"jl\")\n",
    "    for link in links:\n",
    "        information_link = link.get_attribute('innerHTML')\n",
    "        target = BeautifulSoup(information_link, 'html.parser')\n",
    "        LINK = target.find('a')['href']   # we can get all of link with a signle page\n",
    "        job_url = \"https://www.glassdoor.com\" + LINK\n",
    "        driver = webdriver.Chrome('/Users/guorong/Downloads/chromedriver',options=options)\n",
    "        driver.get(job_url)\n",
    "        time.sleep(3)\n",
    "        job_title_tag = driver.find_element_by_xpath(\"//h2[@class='mt-0 mb-xsm strong']\")\n",
    "        job_title = job_title_tag.text[1:-1] if job_title_tag else \"NONE\"\n",
    "        jd_tag = driver.find_element_by_xpath(\"//div[@class='desc css-58vpdc ecgq1xb3']\")\n",
    "        jd = jd_tag.text[1:-1] if jd_tag else \"NONE\"\n",
    "\n",
    "        df = df.append({'job_title': job_title,'job_information': jd}, ignore_index=True)\n",
    "\n",
    "        \n",
    "job_data = df.to_csv(\"Glassdoor_data_analytics.csv\")"
   ]
  }
 ],
 "metadata": {
  "kernelspec": {
   "display_name": "Python 3",
   "language": "python",
   "name": "python3"
  },
  "language_info": {
   "codemirror_mode": {
    "name": "ipython",
    "version": 3
   },
   "file_extension": ".py",
   "mimetype": "text/x-python",
   "name": "python",
   "nbconvert_exporter": "python",
   "pygments_lexer": "ipython3",
   "version": "3.7.4"
  }
 },
 "nbformat": 4,
 "nbformat_minor": 2
}
